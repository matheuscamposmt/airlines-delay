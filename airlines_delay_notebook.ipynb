{
  "cells": [
    {
      "cell_type": "markdown",
      "metadata": {
        "id": "x9RTUn4LGaBm"
      },
      "source": [
        "# Predição de atrasos em vôos\n",
        "------------------------"
      ]
    },
    {
      "cell_type": "code",
      "execution_count": 3,
      "metadata": {
        "id": "lq5P12ef1_Kj"
      },
      "outputs": [],
      "source": [
        "import pandas as pd\n",
        "import utils\n",
        "import numpy as np\n",
        "import matplotlib.pyplot as plt\n",
        "import seaborn as sns\n",
        "import plotly.express as px\n",
        "import scienceplots\n",
        "plt.style.use('science')"
      ]
    },
    {
      "cell_type": "markdown",
      "metadata": {
        "id": "5R98uJMJGflY"
      },
      "source": [
        "## Descrição do *dataset*\n",
        "----------------------"
      ]
    },
    {
      "cell_type": "code",
      "execution_count": 4,
      "metadata": {
        "colab": {
          "base_uri": "https://localhost:8080/",
          "height": 363
        },
        "id": "2kVvptiz3y1_",
        "outputId": "ebe098b7-b55f-4477-8652-7f9a9c763ab9"
      },
      "outputs": [
        {
          "data": {
            "text/html": [
              "<div>\n",
              "<style scoped>\n",
              "    .dataframe tbody tr th:only-of-type {\n",
              "        vertical-align: middle;\n",
              "    }\n",
              "\n",
              "    .dataframe tbody tr th {\n",
              "        vertical-align: top;\n",
              "    }\n",
              "\n",
              "    .dataframe thead th {\n",
              "        text-align: right;\n",
              "    }\n",
              "</style>\n",
              "<table border=\"1\" class=\"dataframe\">\n",
              "  <thead>\n",
              "    <tr style=\"text-align: right;\">\n",
              "      <th></th>\n",
              "      <th>Flight</th>\n",
              "      <th>Time</th>\n",
              "      <th>Length</th>\n",
              "      <th>Airline</th>\n",
              "      <th>AirportFrom</th>\n",
              "      <th>AirportTo</th>\n",
              "      <th>DayOfWeek</th>\n",
              "      <th>Class</th>\n",
              "    </tr>\n",
              "  </thead>\n",
              "  <tbody>\n",
              "    <tr>\n",
              "      <th>0</th>\n",
              "      <td>2313.0</td>\n",
              "      <td>1296.0</td>\n",
              "      <td>141.0</td>\n",
              "      <td>DL</td>\n",
              "      <td>ATL</td>\n",
              "      <td>HOU</td>\n",
              "      <td>1</td>\n",
              "      <td>0</td>\n",
              "    </tr>\n",
              "    <tr>\n",
              "      <th>1</th>\n",
              "      <td>6948.0</td>\n",
              "      <td>360.0</td>\n",
              "      <td>146.0</td>\n",
              "      <td>OO</td>\n",
              "      <td>COS</td>\n",
              "      <td>ORD</td>\n",
              "      <td>4</td>\n",
              "      <td>0</td>\n",
              "    </tr>\n",
              "    <tr>\n",
              "      <th>2</th>\n",
              "      <td>1247.0</td>\n",
              "      <td>1170.0</td>\n",
              "      <td>143.0</td>\n",
              "      <td>B6</td>\n",
              "      <td>BOS</td>\n",
              "      <td>CLT</td>\n",
              "      <td>3</td>\n",
              "      <td>0</td>\n",
              "    </tr>\n",
              "    <tr>\n",
              "      <th>3</th>\n",
              "      <td>31.0</td>\n",
              "      <td>1410.0</td>\n",
              "      <td>344.0</td>\n",
              "      <td>US</td>\n",
              "      <td>OGG</td>\n",
              "      <td>PHX</td>\n",
              "      <td>6</td>\n",
              "      <td>0</td>\n",
              "    </tr>\n",
              "    <tr>\n",
              "      <th>4</th>\n",
              "      <td>563.0</td>\n",
              "      <td>692.0</td>\n",
              "      <td>98.0</td>\n",
              "      <td>FL</td>\n",
              "      <td>BMI</td>\n",
              "      <td>ATL</td>\n",
              "      <td>4</td>\n",
              "      <td>0</td>\n",
              "    </tr>\n",
              "    <tr>\n",
              "      <th>5</th>\n",
              "      <td>3692.0</td>\n",
              "      <td>580.0</td>\n",
              "      <td>60.0</td>\n",
              "      <td>WN</td>\n",
              "      <td>MSY</td>\n",
              "      <td>BHM</td>\n",
              "      <td>4</td>\n",
              "      <td>0</td>\n",
              "    </tr>\n",
              "    <tr>\n",
              "      <th>6</th>\n",
              "      <td>1135.0</td>\n",
              "      <td>690.0</td>\n",
              "      <td>239.0</td>\n",
              "      <td>CO</td>\n",
              "      <td>EWR</td>\n",
              "      <td>DFW</td>\n",
              "      <td>4</td>\n",
              "      <td>0</td>\n",
              "    </tr>\n",
              "    <tr>\n",
              "      <th>7</th>\n",
              "      <td>1300.0</td>\n",
              "      <td>1210.0</td>\n",
              "      <td>80.0</td>\n",
              "      <td>AA</td>\n",
              "      <td>DFW</td>\n",
              "      <td>MEM</td>\n",
              "      <td>3</td>\n",
              "      <td>0</td>\n",
              "    </tr>\n",
              "    <tr>\n",
              "      <th>8</th>\n",
              "      <td>587.0</td>\n",
              "      <td>1295.0</td>\n",
              "      <td>105.0</td>\n",
              "      <td>FL</td>\n",
              "      <td>BWI</td>\n",
              "      <td>GRR</td>\n",
              "      <td>7</td>\n",
              "      <td>0</td>\n",
              "    </tr>\n",
              "    <tr>\n",
              "      <th>9</th>\n",
              "      <td>764.0</td>\n",
              "      <td>530.0</td>\n",
              "      <td>108.0</td>\n",
              "      <td>FL</td>\n",
              "      <td>ATL</td>\n",
              "      <td>PBI</td>\n",
              "      <td>3</td>\n",
              "      <td>0</td>\n",
              "    </tr>\n",
              "  </tbody>\n",
              "</table>\n",
              "</div>"
            ],
            "text/plain": [
              "   Flight    Time  Length Airline AirportFrom AirportTo  DayOfWeek  Class\n",
              "0  2313.0  1296.0   141.0      DL         ATL       HOU          1      0\n",
              "1  6948.0   360.0   146.0      OO         COS       ORD          4      0\n",
              "2  1247.0  1170.0   143.0      B6         BOS       CLT          3      0\n",
              "3    31.0  1410.0   344.0      US         OGG       PHX          6      0\n",
              "4   563.0   692.0    98.0      FL         BMI       ATL          4      0\n",
              "5  3692.0   580.0    60.0      WN         MSY       BHM          4      0\n",
              "6  1135.0   690.0   239.0      CO         EWR       DFW          4      0\n",
              "7  1300.0  1210.0    80.0      AA         DFW       MEM          3      0\n",
              "8   587.0  1295.0   105.0      FL         BWI       GRR          7      0\n",
              "9   764.0   530.0   108.0      FL         ATL       PBI          3      0"
            ]
          },
          "execution_count": 4,
          "metadata": {},
          "output_type": "execute_result"
        }
      ],
      "source": [
        "airlines = pd.read_csv('airlines_delay.csv')\n",
        "airlines['Flight'] = airlines['Flight'].astype('O')\n",
        "airlines.head(10)"
      ]
    },
    {
      "cell_type": "code",
      "execution_count": 5,
      "metadata": {
        "colab": {
          "base_uri": "https://localhost:8080/"
        },
        "id": "AMN1uJyz5KZL",
        "outputId": "34bead58-3a4e-4357-c747-08e2c8fc724e"
      },
      "outputs": [
        {
          "name": "stdout",
          "output_type": "stream",
          "text": [
            "<class 'pandas.core.frame.DataFrame'>\n",
            "RangeIndex: 539382 entries, 0 to 539381\n",
            "Data columns (total 8 columns):\n",
            " #   Column       Non-Null Count   Dtype  \n",
            "---  ------       --------------   -----  \n",
            " 0   Flight       539382 non-null  object \n",
            " 1   Time         539382 non-null  float64\n",
            " 2   Length       539382 non-null  float64\n",
            " 3   Airline      539382 non-null  object \n",
            " 4   AirportFrom  539382 non-null  object \n",
            " 5   AirportTo    539382 non-null  object \n",
            " 6   DayOfWeek    539382 non-null  int64  \n",
            " 7   Class        539382 non-null  int64  \n",
            "dtypes: float64(2), int64(2), object(4)\n",
            "memory usage: 32.9+ MB\n"
          ]
        }
      ],
      "source": [
        "airlines.info()"
      ]
    },
    {
      "cell_type": "code",
      "execution_count": 6,
      "metadata": {},
      "outputs": [
        {
          "name": "stdout",
          "output_type": "stream",
          "text": [
            "Categorical features: ['Flight', 'Airline', 'AirportFrom', 'AirportTo']\n",
            "Numerical features: ['Time', 'Length', 'DayOfWeek', 'Class']\n"
          ]
        }
      ],
      "source": [
        "cat_features = airlines.select_dtypes(include='object').columns.tolist()\n",
        "num_features = airlines.select_dtypes(include='number').columns.tolist()\n",
        "\n",
        "print(f'Categorical features: {cat_features}')\n",
        "print(f'Numerical features: {num_features}')"
      ]
    },
    {
      "cell_type": "code",
      "execution_count": 7,
      "metadata": {
        "colab": {
          "base_uri": "https://localhost:8080/"
        },
        "id": "fegq6C9s5OK7",
        "outputId": "0c34874d-9b0b-49aa-d4f9-b1566f19bda6"
      },
      "outputs": [
        {
          "data": {
            "text/plain": [
              "0    0.554557\n",
              "1    0.445443\n",
              "Name: Class, dtype: float64"
            ]
          },
          "execution_count": 7,
          "metadata": {},
          "output_type": "execute_result"
        }
      ],
      "source": [
        "airlines['Class'].value_counts(normalize=True)"
      ]
    },
    {
      "cell_type": "markdown",
      "metadata": {},
      "source": [
        "- Possui em torno de 55% dos vôos atrasados\n",
        "- Dados aparentemente suficientemente balanceados"
      ]
    },
    {
      "cell_type": "code",
      "execution_count": 8,
      "metadata": {
        "colab": {
          "base_uri": "https://localhost:8080/",
          "height": 165
        },
        "id": "Ko1f704b5jzb",
        "outputId": "ea5b7def-158e-453d-c500-e9d0bbf35ac5"
      },
      "outputs": [],
      "source": [
        "#utils.distribution_plot(airlines, exclude_columns=['AirportFrom', 'AirportTo'])"
      ]
    },
    {
      "cell_type": "code",
      "execution_count": 9,
      "metadata": {
        "colab": {
          "base_uri": "https://localhost:8080/",
          "height": 175
        },
        "id": "--rxCE-D8DRt",
        "outputId": "bba4188a-9f1a-422c-803b-69467bdfda64"
      },
      "outputs": [
        {
          "data": {
            "text/html": [
              "<div>\n",
              "<style scoped>\n",
              "    .dataframe tbody tr th:only-of-type {\n",
              "        vertical-align: middle;\n",
              "    }\n",
              "\n",
              "    .dataframe tbody tr th {\n",
              "        vertical-align: top;\n",
              "    }\n",
              "\n",
              "    .dataframe thead th {\n",
              "        text-align: right;\n",
              "    }\n",
              "</style>\n",
              "<table border=\"1\" class=\"dataframe\">\n",
              "  <thead>\n",
              "    <tr style=\"text-align: right;\">\n",
              "      <th></th>\n",
              "      <th>count</th>\n",
              "      <th>mean</th>\n",
              "      <th>std</th>\n",
              "      <th>min</th>\n",
              "      <th>25%</th>\n",
              "      <th>50%</th>\n",
              "      <th>75%</th>\n",
              "      <th>max</th>\n",
              "    </tr>\n",
              "  </thead>\n",
              "  <tbody>\n",
              "    <tr>\n",
              "      <th>Time</th>\n",
              "      <td>539382.0</td>\n",
              "      <td>802.728161</td>\n",
              "      <td>278.045546</td>\n",
              "      <td>10.0</td>\n",
              "      <td>565.0</td>\n",
              "      <td>795.0</td>\n",
              "      <td>1035.0</td>\n",
              "      <td>1439.0</td>\n",
              "    </tr>\n",
              "    <tr>\n",
              "      <th>Length</th>\n",
              "      <td>539382.0</td>\n",
              "      <td>132.202104</td>\n",
              "      <td>70.117045</td>\n",
              "      <td>0.0</td>\n",
              "      <td>81.0</td>\n",
              "      <td>115.0</td>\n",
              "      <td>162.0</td>\n",
              "      <td>655.0</td>\n",
              "    </tr>\n",
              "    <tr>\n",
              "      <th>DayOfWeek</th>\n",
              "      <td>539382.0</td>\n",
              "      <td>3.929666</td>\n",
              "      <td>1.914666</td>\n",
              "      <td>1.0</td>\n",
              "      <td>2.0</td>\n",
              "      <td>4.0</td>\n",
              "      <td>5.0</td>\n",
              "      <td>7.0</td>\n",
              "    </tr>\n",
              "    <tr>\n",
              "      <th>Class</th>\n",
              "      <td>539382.0</td>\n",
              "      <td>0.445443</td>\n",
              "      <td>0.497015</td>\n",
              "      <td>0.0</td>\n",
              "      <td>0.0</td>\n",
              "      <td>0.0</td>\n",
              "      <td>1.0</td>\n",
              "      <td>1.0</td>\n",
              "    </tr>\n",
              "  </tbody>\n",
              "</table>\n",
              "</div>"
            ],
            "text/plain": [
              "              count        mean         std   min    25%    50%     75%  \\\n",
              "Time       539382.0  802.728161  278.045546  10.0  565.0  795.0  1035.0   \n",
              "Length     539382.0  132.202104   70.117045   0.0   81.0  115.0   162.0   \n",
              "DayOfWeek  539382.0    3.929666    1.914666   1.0    2.0    4.0     5.0   \n",
              "Class      539382.0    0.445443    0.497015   0.0    0.0    0.0     1.0   \n",
              "\n",
              "              max  \n",
              "Time       1439.0  \n",
              "Length      655.0  \n",
              "DayOfWeek     7.0  \n",
              "Class         1.0  "
            ]
          },
          "execution_count": 9,
          "metadata": {},
          "output_type": "execute_result"
        }
      ],
      "source": [
        "airlines.describe().T"
      ]
    },
    {
      "cell_type": "markdown",
      "metadata": {
        "id": "P6al2CSF8Fm0"
      },
      "source": [
        "- Tempo é a hora de saída em minutos\n",
        "- Distância máxima de 655 km"
      ]
    },
    {
      "cell_type": "code",
      "execution_count": 10,
      "metadata": {
        "colab": {
          "base_uri": "https://localhost:8080/",
          "height": 165
        },
        "id": "-QRIe7yO7qWz",
        "outputId": "69c60bc0-fe27-4d74-fdf3-48f29cf8581f"
      },
      "outputs": [
        {
          "data": {
            "image/png": "[encoded data removed]",
            "text/plain": [
              "<Figure size 1200x400 with 2 Axes>"
            ]
          },
          "metadata": {},
          "output_type": "display_data"
        }
      ],
      "source": [
        "utils.plot_boxplots(airlines, ['Length', 'Time'])"
      ]
    },
    {
      "cell_type": "markdown",
      "metadata": {},
      "source": [
        "- Bastante *outliers* na distância do vôo. \n",
        "- A maioria dos vôos saem entre de 10h da manhã e 17h da tarde."
      ]
    },
    {
      "cell_type": "markdown",
      "metadata": {
        "id": "gPjMke8gGkXj"
      },
      "source": [
        "## Análise Exploratória\n",
        "-----------"
      ]
    },
    {
      "cell_type": "code",
      "execution_count": 11,
      "metadata": {},
      "outputs": [
        {
          "data": {
            "image/png": "[encoded data removed]",
            "text/plain": [
              "<Figure size 1500x500 with 1 Axes>"
            ]
          },
          "metadata": {},
          "output_type": "display_data"
        },
        {
          "data": {
            "image/png": "[encoded data removed]",
            "text/plain": [
              "<Figure size 1500x500 with 1 Axes>"
            ]
          },
          "metadata": {},
          "output_type": "display_data"
        }
      ],
      "source": [
        "# plot multiple subplots\n",
        "\n",
        "fig = plt.figure(figsize=(15, 5))\n",
        "utils.plot_norm_countplot(airlines, category_col='Airline', hue_col='Class', xticks_rotation=0, edgecolor='black', title='Proporção de atrasos por companhia aérea')\n",
        "fig = plt.figure(figsize=(15, 5))\n",
        "utils.plot_norm_countplot(airlines, category_col='DayOfWeek', hue_col='Class', xticks_rotation=0, edgecolor='black', title='Proporção de atrasos por dia da semana')\n",
        "\n",
        "plt.show()\n"
      ]
    },
    {
      "cell_type": "markdown",
      "metadata": {},
      "source": [
        "1. Companhias aéreas:\n",
        "    - A companhia **\"WN\"** é a campeã de atrasos. Aproximadamente **70%** dos seus vôos estão atrasados.\n",
        "    - A companhia **\"YV\"** é a que tem menos atrasos: **24.3%**\n",
        "2. Dias da semana:\n",
        "    - Os dias parecem ser similares.\n",
        "    - Destaque para sexta-feira (sexto dia da semana) que possui aproximadamente 60% dos vôos atrasados."
      ]
    },
    {
      "cell_type": "code",
      "execution_count": 12,
      "metadata": {},
      "outputs": [
        {
          "data": {
            "text/plain": [
              "AirportFrom\n",
              "ATL    14601\n",
              "ORD    11906\n",
              "DEN     9433\n",
              "DFW     8809\n",
              "LAX     8270\n",
              "IAH     7665\n",
              "PHX     6844\n",
              "LAS     6674\n",
              "DTW     6300\n",
              "SFO     6281\n",
              "Name: Class, dtype: int64"
            ]
          },
          "execution_count": 12,
          "metadata": {},
          "output_type": "execute_result"
        }
      ],
      "source": [
        "# top 10 AirportFrom most delays\n",
        "airlines[airlines['Class'] == 1].groupby('AirportFrom')['Class'].count().sort_values(ascending=False).head(10)"
      ]
    },
    {
      "cell_type": "code",
      "execution_count": 13,
      "metadata": {},
      "outputs": [
        {
          "data": {
            "text/plain": [
              "AirportTo\n",
              "ATL    13217\n",
              "ORD     9295\n",
              "DEN     8656\n",
              "LAX     8199\n",
              "PHX     7100\n",
              "DFW     7048\n",
              "LAS     6897\n",
              "IAH     6374\n",
              "SFO     6237\n",
              "DTW     5392\n",
              "Name: Class, dtype: int64"
            ]
          },
          "execution_count": 13,
          "metadata": {},
          "output_type": "execute_result"
        }
      ],
      "source": [
        "airlines[airlines['Class'] == 1].groupby('AirportTo')['Class'].count().sort_values(ascending=False).head(10)"
      ]
    },
    {
      "cell_type": "code",
      "execution_count": 14,
      "metadata": {},
      "outputs": [
        {
          "data": {
            "text/html": [
              "<div>\n",
              "<style scoped>\n",
              "    .dataframe tbody tr th:only-of-type {\n",
              "        vertical-align: middle;\n",
              "    }\n",
              "\n",
              "    .dataframe tbody tr th {\n",
              "        vertical-align: top;\n",
              "    }\n",
              "\n",
              "    .dataframe thead th {\n",
              "        text-align: right;\n",
              "    }\n",
              "</style>\n",
              "<table border=\"1\" class=\"dataframe\">\n",
              "  <thead>\n",
              "    <tr style=\"text-align: right;\">\n",
              "      <th></th>\n",
              "      <th>Flight</th>\n",
              "      <th>Time</th>\n",
              "      <th>Length</th>\n",
              "      <th>Airline</th>\n",
              "      <th>AirportFrom</th>\n",
              "      <th>AirportTo</th>\n",
              "      <th>DayOfWeek</th>\n",
              "      <th>Class</th>\n",
              "    </tr>\n",
              "  </thead>\n",
              "  <tbody>\n",
              "    <tr>\n",
              "      <th>0</th>\n",
              "      <td>2313.0</td>\n",
              "      <td>1296.0</td>\n",
              "      <td>141.0</td>\n",
              "      <td>DL</td>\n",
              "      <td>ATL</td>\n",
              "      <td>HOU</td>\n",
              "      <td>1</td>\n",
              "      <td>0</td>\n",
              "    </tr>\n",
              "    <tr>\n",
              "      <th>9</th>\n",
              "      <td>764.0</td>\n",
              "      <td>530.0</td>\n",
              "      <td>108.0</td>\n",
              "      <td>FL</td>\n",
              "      <td>ATL</td>\n",
              "      <td>PBI</td>\n",
              "      <td>3</td>\n",
              "      <td>0</td>\n",
              "    </tr>\n",
              "    <tr>\n",
              "      <th>17</th>\n",
              "      <td>5411.0</td>\n",
              "      <td>966.0</td>\n",
              "      <td>134.0</td>\n",
              "      <td>EV</td>\n",
              "      <td>ATL</td>\n",
              "      <td>HPN</td>\n",
              "      <td>7</td>\n",
              "      <td>0</td>\n",
              "    </tr>\n",
              "    <tr>\n",
              "      <th>41</th>\n",
              "      <td>5117.0</td>\n",
              "      <td>525.0</td>\n",
              "      <td>85.0</td>\n",
              "      <td>EV</td>\n",
              "      <td>ATL</td>\n",
              "      <td>FAY</td>\n",
              "      <td>4</td>\n",
              "      <td>0</td>\n",
              "    </tr>\n",
              "    <tr>\n",
              "      <th>58</th>\n",
              "      <td>5423.0</td>\n",
              "      <td>660.0</td>\n",
              "      <td>77.0</td>\n",
              "      <td>EV</td>\n",
              "      <td>ATL</td>\n",
              "      <td>VPS</td>\n",
              "      <td>2</td>\n",
              "      <td>0</td>\n",
              "    </tr>\n",
              "    <tr>\n",
              "      <th>...</th>\n",
              "      <td>...</td>\n",
              "      <td>...</td>\n",
              "      <td>...</td>\n",
              "      <td>...</td>\n",
              "      <td>...</td>\n",
              "      <td>...</td>\n",
              "      <td>...</td>\n",
              "      <td>...</td>\n",
              "    </tr>\n",
              "    <tr>\n",
              "      <th>539295</th>\n",
              "      <td>5358.0</td>\n",
              "      <td>785.0</td>\n",
              "      <td>125.0</td>\n",
              "      <td>EV</td>\n",
              "      <td>ATL</td>\n",
              "      <td>SYR</td>\n",
              "      <td>4</td>\n",
              "      <td>1</td>\n",
              "    </tr>\n",
              "    <tr>\n",
              "      <th>539324</th>\n",
              "      <td>4994.0</td>\n",
              "      <td>851.0</td>\n",
              "      <td>142.0</td>\n",
              "      <td>EV</td>\n",
              "      <td>ATL</td>\n",
              "      <td>HPN</td>\n",
              "      <td>4</td>\n",
              "      <td>1</td>\n",
              "    </tr>\n",
              "    <tr>\n",
              "      <th>539331</th>\n",
              "      <td>5142.0</td>\n",
              "      <td>572.0</td>\n",
              "      <td>80.0</td>\n",
              "      <td>EV</td>\n",
              "      <td>ATL</td>\n",
              "      <td>ILM</td>\n",
              "      <td>7</td>\n",
              "      <td>1</td>\n",
              "    </tr>\n",
              "    <tr>\n",
              "      <th>539344</th>\n",
              "      <td>5462.0</td>\n",
              "      <td>895.0</td>\n",
              "      <td>65.0</td>\n",
              "      <td>EV</td>\n",
              "      <td>ATL</td>\n",
              "      <td>SAV</td>\n",
              "      <td>1</td>\n",
              "      <td>1</td>\n",
              "    </tr>\n",
              "    <tr>\n",
              "      <th>539348</th>\n",
              "      <td>793.0</td>\n",
              "      <td>1345.0</td>\n",
              "      <td>102.0</td>\n",
              "      <td>FL</td>\n",
              "      <td>ATL</td>\n",
              "      <td>STL</td>\n",
              "      <td>7</td>\n",
              "      <td>1</td>\n",
              "    </tr>\n",
              "  </tbody>\n",
              "</table>\n",
              "<p>34449 rows × 8 columns</p>\n",
              "</div>"
            ],
            "text/plain": [
              "        Flight    Time  Length Airline AirportFrom AirportTo  DayOfWeek  Class\n",
              "0       2313.0  1296.0   141.0      DL         ATL       HOU          1      0\n",
              "9        764.0   530.0   108.0      FL         ATL       PBI          3      0\n",
              "17      5411.0   966.0   134.0      EV         ATL       HPN          7      0\n",
              "41      5117.0   525.0    85.0      EV         ATL       FAY          4      0\n",
              "58      5423.0   660.0    77.0      EV         ATL       VPS          2      0\n",
              "...        ...     ...     ...     ...         ...       ...        ...    ...\n",
              "539295  5358.0   785.0   125.0      EV         ATL       SYR          4      1\n",
              "539324  4994.0   851.0   142.0      EV         ATL       HPN          4      1\n",
              "539331  5142.0   572.0    80.0      EV         ATL       ILM          7      1\n",
              "539344  5462.0   895.0    65.0      EV         ATL       SAV          1      1\n",
              "539348   793.0  1345.0   102.0      FL         ATL       STL          7      1\n",
              "\n",
              "[34449 rows x 8 columns]"
            ]
          },
          "execution_count": 14,
          "metadata": {},
          "output_type": "execute_result"
        }
      ],
      "source": [
        "airlines[airlines['AirportFrom'] == 'ATL']"
      ]
    },
    {
      "cell_type": "code",
      "execution_count": 15,
      "metadata": {},
      "outputs": [
        {
          "data": {
            "text/html": [
              "<div>\n",
              "<style scoped>\n",
              "    .dataframe tbody tr th:only-of-type {\n",
              "        vertical-align: middle;\n",
              "    }\n",
              "\n",
              "    .dataframe tbody tr th {\n",
              "        vertical-align: top;\n",
              "    }\n",
              "\n",
              "    .dataframe thead th {\n",
              "        text-align: right;\n",
              "    }\n",
              "</style>\n",
              "<table border=\"1\" class=\"dataframe\">\n",
              "  <thead>\n",
              "    <tr style=\"text-align: right;\">\n",
              "      <th></th>\n",
              "      <th>AirportFrom</th>\n",
              "      <th>AirportTo</th>\n",
              "      <th>mean_length</th>\n",
              "    </tr>\n",
              "  </thead>\n",
              "  <tbody>\n",
              "    <tr>\n",
              "      <th>1405</th>\n",
              "      <td>EWR</td>\n",
              "      <td>HNL</td>\n",
              "      <td>655.000000</td>\n",
              "    </tr>\n",
              "    <tr>\n",
              "      <th>151</th>\n",
              "      <td>ATL</td>\n",
              "      <td>HNL</td>\n",
              "      <td>620.000000</td>\n",
              "    </tr>\n",
              "    <tr>\n",
              "      <th>1264</th>\n",
              "      <td>DTW</td>\n",
              "      <td>HNL</td>\n",
              "      <td>610.000000</td>\n",
              "    </tr>\n",
              "    <tr>\n",
              "      <th>1640</th>\n",
              "      <td>HNL</td>\n",
              "      <td>EWR</td>\n",
              "      <td>570.000000</td>\n",
              "    </tr>\n",
              "    <tr>\n",
              "      <th>3038</th>\n",
              "      <td>ORD</td>\n",
              "      <td>HNL</td>\n",
              "      <td>553.945455</td>\n",
              "    </tr>\n",
              "    <tr>\n",
              "      <th>3073</th>\n",
              "      <td>ORD</td>\n",
              "      <td>OGG</td>\n",
              "      <td>549.000000</td>\n",
              "    </tr>\n",
              "    <tr>\n",
              "      <th>2785</th>\n",
              "      <td>MSP</td>\n",
              "      <td>HNL</td>\n",
              "      <td>535.000000</td>\n",
              "    </tr>\n",
              "    <tr>\n",
              "      <th>1639</th>\n",
              "      <td>HNL</td>\n",
              "      <td>DTW</td>\n",
              "      <td>525.000000</td>\n",
              "    </tr>\n",
              "    <tr>\n",
              "      <th>1119</th>\n",
              "      <td>DFW</td>\n",
              "      <td>HNL</td>\n",
              "      <td>522.500000</td>\n",
              "    </tr>\n",
              "    <tr>\n",
              "      <th>1636</th>\n",
              "      <td>HNL</td>\n",
              "      <td>ATL</td>\n",
              "      <td>515.000000</td>\n",
              "    </tr>\n",
              "  </tbody>\n",
              "</table>\n",
              "</div>"
            ],
            "text/plain": [
              "     AirportFrom AirportTo  mean_length\n",
              "1405         EWR       HNL   655.000000\n",
              "151          ATL       HNL   620.000000\n",
              "1264         DTW       HNL   610.000000\n",
              "1640         HNL       EWR   570.000000\n",
              "3038         ORD       HNL   553.945455\n",
              "3073         ORD       OGG   549.000000\n",
              "2785         MSP       HNL   535.000000\n",
              "1639         HNL       DTW   525.000000\n",
              "1119         DFW       HNL   522.500000\n",
              "1636         HNL       ATL   515.000000"
            ]
          },
          "execution_count": 15,
          "metadata": {},
          "output_type": "execute_result"
        }
      ],
      "source": [
        "airport_relation_length = airlines.groupby(['AirportFrom', 'AirportTo']).agg(mean_length=('Length', 'mean')).reset_index().sort_values(by='mean_length', ascending=False).head(10)\n",
        "airport_relation_length"
      ]
    },
    {
      "cell_type": "code",
      "execution_count": 16,
      "metadata": {
        "id": "q_pvIjPOBhQz"
      },
      "outputs": [
        {
          "data": {
            "image/png": "[encoded data removed]",
            "text/plain": [
              "<Figure size 1000x600 with 2 Axes>"
            ]
          },
          "metadata": {},
          "output_type": "display_data"
        }
      ],
      "source": [
        "#seaborn correlation matrix\n",
        "plt.figure(figsize=(10, 6))\n",
        "sns.heatmap(airlines.corr(), annot=True, cmap='coolwarm', linewidths=2)\n",
        "plt.title('Correlation Matrix')\n",
        "\n",
        "plt.savefig('figures/eda/correlation_matrix.png', dpi=300, bbox_inches='tight')\n",
        "plt.show()"
      ]
    },
    {
      "cell_type": "code",
      "execution_count": 17,
      "metadata": {
        "id": "5NzxzHRIDp4u"
      },
      "outputs": [
        {
          "data": {
            "text/html": [
              "<div>\n",
              "<style scoped>\n",
              "    .dataframe tbody tr th:only-of-type {\n",
              "        vertical-align: middle;\n",
              "    }\n",
              "\n",
              "    .dataframe tbody tr th {\n",
              "        vertical-align: top;\n",
              "    }\n",
              "\n",
              "    .dataframe thead th {\n",
              "        text-align: right;\n",
              "    }\n",
              "</style>\n",
              "<table border=\"1\" class=\"dataframe\">\n",
              "  <thead>\n",
              "    <tr style=\"text-align: right;\">\n",
              "      <th></th>\n",
              "      <th>Flight</th>\n",
              "      <th>Time</th>\n",
              "      <th>Length</th>\n",
              "      <th>Airline</th>\n",
              "      <th>AirportFrom</th>\n",
              "      <th>AirportTo</th>\n",
              "      <th>DayOfWeek</th>\n",
              "      <th>Class</th>\n",
              "      <th>Hour</th>\n",
              "      <th>Minute</th>\n",
              "    </tr>\n",
              "  </thead>\n",
              "  <tbody>\n",
              "    <tr>\n",
              "      <th>0</th>\n",
              "      <td>2313.0</td>\n",
              "      <td>1296.0</td>\n",
              "      <td>141.0</td>\n",
              "      <td>DL</td>\n",
              "      <td>ATL</td>\n",
              "      <td>HOU</td>\n",
              "      <td>1</td>\n",
              "      <td>0</td>\n",
              "      <td>21</td>\n",
              "      <td>36</td>\n",
              "    </tr>\n",
              "    <tr>\n",
              "      <th>1</th>\n",
              "      <td>6948.0</td>\n",
              "      <td>360.0</td>\n",
              "      <td>146.0</td>\n",
              "      <td>OO</td>\n",
              "      <td>COS</td>\n",
              "      <td>ORD</td>\n",
              "      <td>4</td>\n",
              "      <td>0</td>\n",
              "      <td>6</td>\n",
              "      <td>0</td>\n",
              "    </tr>\n",
              "    <tr>\n",
              "      <th>2</th>\n",
              "      <td>1247.0</td>\n",
              "      <td>1170.0</td>\n",
              "      <td>143.0</td>\n",
              "      <td>B6</td>\n",
              "      <td>BOS</td>\n",
              "      <td>CLT</td>\n",
              "      <td>3</td>\n",
              "      <td>0</td>\n",
              "      <td>19</td>\n",
              "      <td>30</td>\n",
              "    </tr>\n",
              "    <tr>\n",
              "      <th>3</th>\n",
              "      <td>31.0</td>\n",
              "      <td>1410.0</td>\n",
              "      <td>344.0</td>\n",
              "      <td>US</td>\n",
              "      <td>OGG</td>\n",
              "      <td>PHX</td>\n",
              "      <td>6</td>\n",
              "      <td>0</td>\n",
              "      <td>23</td>\n",
              "      <td>30</td>\n",
              "    </tr>\n",
              "    <tr>\n",
              "      <th>4</th>\n",
              "      <td>563.0</td>\n",
              "      <td>692.0</td>\n",
              "      <td>98.0</td>\n",
              "      <td>FL</td>\n",
              "      <td>BMI</td>\n",
              "      <td>ATL</td>\n",
              "      <td>4</td>\n",
              "      <td>0</td>\n",
              "      <td>11</td>\n",
              "      <td>32</td>\n",
              "    </tr>\n",
              "    <tr>\n",
              "      <th>...</th>\n",
              "      <td>...</td>\n",
              "      <td>...</td>\n",
              "      <td>...</td>\n",
              "      <td>...</td>\n",
              "      <td>...</td>\n",
              "      <td>...</td>\n",
              "      <td>...</td>\n",
              "      <td>...</td>\n",
              "      <td>...</td>\n",
              "      <td>...</td>\n",
              "    </tr>\n",
              "    <tr>\n",
              "      <th>539377</th>\n",
              "      <td>6973.0</td>\n",
              "      <td>530.0</td>\n",
              "      <td>72.0</td>\n",
              "      <td>OO</td>\n",
              "      <td>GEG</td>\n",
              "      <td>SEA</td>\n",
              "      <td>5</td>\n",
              "      <td>1</td>\n",
              "      <td>8</td>\n",
              "      <td>50</td>\n",
              "    </tr>\n",
              "    <tr>\n",
              "      <th>539378</th>\n",
              "      <td>1264.0</td>\n",
              "      <td>560.0</td>\n",
              "      <td>115.0</td>\n",
              "      <td>WN</td>\n",
              "      <td>LAS</td>\n",
              "      <td>DEN</td>\n",
              "      <td>4</td>\n",
              "      <td>1</td>\n",
              "      <td>9</td>\n",
              "      <td>20</td>\n",
              "    </tr>\n",
              "    <tr>\n",
              "      <th>539379</th>\n",
              "      <td>5209.0</td>\n",
              "      <td>827.0</td>\n",
              "      <td>74.0</td>\n",
              "      <td>EV</td>\n",
              "      <td>CAE</td>\n",
              "      <td>ATL</td>\n",
              "      <td>2</td>\n",
              "      <td>1</td>\n",
              "      <td>13</td>\n",
              "      <td>47</td>\n",
              "    </tr>\n",
              "    <tr>\n",
              "      <th>539380</th>\n",
              "      <td>607.0</td>\n",
              "      <td>715.0</td>\n",
              "      <td>65.0</td>\n",
              "      <td>WN</td>\n",
              "      <td>BWI</td>\n",
              "      <td>BUF</td>\n",
              "      <td>4</td>\n",
              "      <td>1</td>\n",
              "      <td>11</td>\n",
              "      <td>55</td>\n",
              "    </tr>\n",
              "    <tr>\n",
              "      <th>539381</th>\n",
              "      <td>6377.0</td>\n",
              "      <td>770.0</td>\n",
              "      <td>55.0</td>\n",
              "      <td>OO</td>\n",
              "      <td>CPR</td>\n",
              "      <td>DEN</td>\n",
              "      <td>2</td>\n",
              "      <td>1</td>\n",
              "      <td>12</td>\n",
              "      <td>50</td>\n",
              "    </tr>\n",
              "  </tbody>\n",
              "</table>\n",
              "<p>539382 rows × 10 columns</p>\n",
              "</div>"
            ],
            "text/plain": [
              "        Flight    Time  Length Airline AirportFrom AirportTo  DayOfWeek  \\\n",
              "0       2313.0  1296.0   141.0      DL         ATL       HOU          1   \n",
              "1       6948.0   360.0   146.0      OO         COS       ORD          4   \n",
              "2       1247.0  1170.0   143.0      B6         BOS       CLT          3   \n",
              "3         31.0  1410.0   344.0      US         OGG       PHX          6   \n",
              "4        563.0   692.0    98.0      FL         BMI       ATL          4   \n",
              "...        ...     ...     ...     ...         ...       ...        ...   \n",
              "539377  6973.0   530.0    72.0      OO         GEG       SEA          5   \n",
              "539378  1264.0   560.0   115.0      WN         LAS       DEN          4   \n",
              "539379  5209.0   827.0    74.0      EV         CAE       ATL          2   \n",
              "539380   607.0   715.0    65.0      WN         BWI       BUF          4   \n",
              "539381  6377.0   770.0    55.0      OO         CPR       DEN          2   \n",
              "\n",
              "        Class  Hour  Minute  \n",
              "0           0    21      36  \n",
              "1           0     6       0  \n",
              "2           0    19      30  \n",
              "3           0    23      30  \n",
              "4           0    11      32  \n",
              "...       ...   ...     ...  \n",
              "539377      1     8      50  \n",
              "539378      1     9      20  \n",
              "539379      1    13      47  \n",
              "539380      1    11      55  \n",
              "539381      1    12      50  \n",
              "\n",
              "[539382 rows x 10 columns]"
            ]
          },
          "execution_count": 17,
          "metadata": {},
          "output_type": "execute_result"
        }
      ],
      "source": [
        "\n",
        "# airlines data assign hour and minute column using pd.to_datetime\n",
        "airlines['Hour'] = pd.to_datetime(airlines['Time'], unit='m').dt.hour\n",
        "airlines['Minute'] = pd.to_datetime(airlines['Time'], unit='m').dt.minute\n",
        "airlines"
      ]
    },
    {
      "cell_type": "code",
      "execution_count": 18,
      "metadata": {},
      "outputs": [],
      "source": [
        "airlines_delayed = airlines[airlines['Class'] == 1]\n",
        "delay_by_hour = airlines_delayed.groupby('Hour')['Class'].count()"
      ]
    },
    {
      "cell_type": "code",
      "execution_count": 19,
      "metadata": {
        "id": "s6G5INIkExR_"
      },
      "outputs": [
        {
          "data": {
            "image/png": "[encoded data removed]",
            "text/plain": [
              "<Figure size 900x500 with 1 Axes>"
            ]
          },
          "metadata": {},
          "output_type": "display_data"
        }
      ],
      "source": [
        "#plot\n",
        "fig = plt.figure(figsize=(9, 5))\n",
        "sns.lineplot(data=delay_by_hour, x=delay_by_hour.index, y=delay_by_hour.values, color='black')\n",
        "plt.xlabel('Horário')\n",
        "plt.ylabel('Número de atrasos')\n",
        "plt.title('Número de atrasos por hora')\n",
        "plt.xticks(np.arange(0, 24, 1))\n",
        "#sns despine\n",
        "#grayscale save\n",
        "plt.savefig('figures/eda/delay_by_hour.png', dpi=300, bbox_inches='tight')\n",
        "plt.show()"
      ]
    },
    {
      "cell_type": "markdown",
      "metadata": {},
      "source": [
        "## *Feature Engineering*\n",
        "-------------------\n"
      ]
    },
    {
      "cell_type": "code",
      "execution_count": 20,
      "metadata": {},
      "outputs": [
        {
          "data": {
            "text/html": [
              "<div>\n",
              "<style scoped>\n",
              "    .dataframe tbody tr th:only-of-type {\n",
              "        vertical-align: middle;\n",
              "    }\n",
              "\n",
              "    .dataframe tbody tr th {\n",
              "        vertical-align: top;\n",
              "    }\n",
              "\n",
              "    .dataframe thead th {\n",
              "        text-align: right;\n",
              "    }\n",
              "</style>\n",
              "<table border=\"1\" class=\"dataframe\">\n",
              "  <thead>\n",
              "    <tr style=\"text-align: right;\">\n",
              "      <th></th>\n",
              "      <th>Flight</th>\n",
              "      <th>Time</th>\n",
              "      <th>Length</th>\n",
              "      <th>Airline</th>\n",
              "      <th>AirportFrom</th>\n",
              "      <th>AirportTo</th>\n",
              "      <th>DayOfWeek</th>\n",
              "      <th>Class</th>\n",
              "      <th>Hour</th>\n",
              "      <th>Minute</th>\n",
              "    </tr>\n",
              "  </thead>\n",
              "  <tbody>\n",
              "    <tr>\n",
              "      <th>0</th>\n",
              "      <td>2313.0</td>\n",
              "      <td>1296.0</td>\n",
              "      <td>141.0</td>\n",
              "      <td>DL</td>\n",
              "      <td>ATL</td>\n",
              "      <td>HOU</td>\n",
              "      <td>1</td>\n",
              "      <td>0</td>\n",
              "      <td>21</td>\n",
              "      <td>36</td>\n",
              "    </tr>\n",
              "    <tr>\n",
              "      <th>1</th>\n",
              "      <td>6948.0</td>\n",
              "      <td>360.0</td>\n",
              "      <td>146.0</td>\n",
              "      <td>OO</td>\n",
              "      <td>COS</td>\n",
              "      <td>ORD</td>\n",
              "      <td>4</td>\n",
              "      <td>0</td>\n",
              "      <td>6</td>\n",
              "      <td>0</td>\n",
              "    </tr>\n",
              "    <tr>\n",
              "      <th>2</th>\n",
              "      <td>1247.0</td>\n",
              "      <td>1170.0</td>\n",
              "      <td>143.0</td>\n",
              "      <td>B6</td>\n",
              "      <td>BOS</td>\n",
              "      <td>CLT</td>\n",
              "      <td>3</td>\n",
              "      <td>0</td>\n",
              "      <td>19</td>\n",
              "      <td>30</td>\n",
              "    </tr>\n",
              "    <tr>\n",
              "      <th>3</th>\n",
              "      <td>31.0</td>\n",
              "      <td>1410.0</td>\n",
              "      <td>344.0</td>\n",
              "      <td>US</td>\n",
              "      <td>OGG</td>\n",
              "      <td>PHX</td>\n",
              "      <td>6</td>\n",
              "      <td>0</td>\n",
              "      <td>23</td>\n",
              "      <td>30</td>\n",
              "    </tr>\n",
              "    <tr>\n",
              "      <th>4</th>\n",
              "      <td>563.0</td>\n",
              "      <td>692.0</td>\n",
              "      <td>98.0</td>\n",
              "      <td>FL</td>\n",
              "      <td>BMI</td>\n",
              "      <td>ATL</td>\n",
              "      <td>4</td>\n",
              "      <td>0</td>\n",
              "      <td>11</td>\n",
              "      <td>32</td>\n",
              "    </tr>\n",
              "    <tr>\n",
              "      <th>...</th>\n",
              "      <td>...</td>\n",
              "      <td>...</td>\n",
              "      <td>...</td>\n",
              "      <td>...</td>\n",
              "      <td>...</td>\n",
              "      <td>...</td>\n",
              "      <td>...</td>\n",
              "      <td>...</td>\n",
              "      <td>...</td>\n",
              "      <td>...</td>\n",
              "    </tr>\n",
              "    <tr>\n",
              "      <th>539377</th>\n",
              "      <td>6973.0</td>\n",
              "      <td>530.0</td>\n",
              "      <td>72.0</td>\n",
              "      <td>OO</td>\n",
              "      <td>GEG</td>\n",
              "      <td>SEA</td>\n",
              "      <td>5</td>\n",
              "      <td>1</td>\n",
              "      <td>8</td>\n",
              "      <td>50</td>\n",
              "    </tr>\n",
              "    <tr>\n",
              "      <th>539378</th>\n",
              "      <td>1264.0</td>\n",
              "      <td>560.0</td>\n",
              "      <td>115.0</td>\n",
              "      <td>WN</td>\n",
              "      <td>LAS</td>\n",
              "      <td>DEN</td>\n",
              "      <td>4</td>\n",
              "      <td>1</td>\n",
              "      <td>9</td>\n",
              "      <td>20</td>\n",
              "    </tr>\n",
              "    <tr>\n",
              "      <th>539379</th>\n",
              "      <td>5209.0</td>\n",
              "      <td>827.0</td>\n",
              "      <td>74.0</td>\n",
              "      <td>EV</td>\n",
              "      <td>CAE</td>\n",
              "      <td>ATL</td>\n",
              "      <td>2</td>\n",
              "      <td>1</td>\n",
              "      <td>13</td>\n",
              "      <td>47</td>\n",
              "    </tr>\n",
              "    <tr>\n",
              "      <th>539380</th>\n",
              "      <td>607.0</td>\n",
              "      <td>715.0</td>\n",
              "      <td>65.0</td>\n",
              "      <td>WN</td>\n",
              "      <td>BWI</td>\n",
              "      <td>BUF</td>\n",
              "      <td>4</td>\n",
              "      <td>1</td>\n",
              "      <td>11</td>\n",
              "      <td>55</td>\n",
              "    </tr>\n",
              "    <tr>\n",
              "      <th>539381</th>\n",
              "      <td>6377.0</td>\n",
              "      <td>770.0</td>\n",
              "      <td>55.0</td>\n",
              "      <td>OO</td>\n",
              "      <td>CPR</td>\n",
              "      <td>DEN</td>\n",
              "      <td>2</td>\n",
              "      <td>1</td>\n",
              "      <td>12</td>\n",
              "      <td>50</td>\n",
              "    </tr>\n",
              "  </tbody>\n",
              "</table>\n",
              "<p>539382 rows × 10 columns</p>\n",
              "</div>"
            ],
            "text/plain": [
              "        Flight    Time  Length Airline AirportFrom AirportTo  DayOfWeek  \\\n",
              "0       2313.0  1296.0   141.0      DL         ATL       HOU          1   \n",
              "1       6948.0   360.0   146.0      OO         COS       ORD          4   \n",
              "2       1247.0  1170.0   143.0      B6         BOS       CLT          3   \n",
              "3         31.0  1410.0   344.0      US         OGG       PHX          6   \n",
              "4        563.0   692.0    98.0      FL         BMI       ATL          4   \n",
              "...        ...     ...     ...     ...         ...       ...        ...   \n",
              "539377  6973.0   530.0    72.0      OO         GEG       SEA          5   \n",
              "539378  1264.0   560.0   115.0      WN         LAS       DEN          4   \n",
              "539379  5209.0   827.0    74.0      EV         CAE       ATL          2   \n",
              "539380   607.0   715.0    65.0      WN         BWI       BUF          4   \n",
              "539381  6377.0   770.0    55.0      OO         CPR       DEN          2   \n",
              "\n",
              "        Class  Hour  Minute  \n",
              "0           0    21      36  \n",
              "1           0     6       0  \n",
              "2           0    19      30  \n",
              "3           0    23      30  \n",
              "4           0    11      32  \n",
              "...       ...   ...     ...  \n",
              "539377      1     8      50  \n",
              "539378      1     9      20  \n",
              "539379      1    13      47  \n",
              "539380      1    11      55  \n",
              "539381      1    12      50  \n",
              "\n",
              "[539382 rows x 10 columns]"
            ]
          },
          "execution_count": 20,
          "metadata": {},
          "output_type": "execute_result"
        }
      ],
      "source": [
        "airlines"
      ]
    },
    {
      "cell_type": "code",
      "execution_count": 21,
      "metadata": {},
      "outputs": [],
      "source": [
        "def feature_engineering_preprocessing(data):\n",
        "\n",
        "    data = data.copy()\n",
        "\n",
        "    # Creating Time-based Features\n",
        "    data['TimeOfDay'] = pd.cut(data['Hour'], bins=[0, 6, 12, 18, 24], labels=['Night', 'Morning', 'Afternoon', 'Evening'], include_lowest=True)\n",
        "    data['Weekend'] = np.where(data['DayOfWeek'].isin([1, 7]), 1, 0)\n",
        "\n",
        "    return data"
      ]
    },
    {
      "cell_type": "code",
      "execution_count": 22,
      "metadata": {},
      "outputs": [],
      "source": [
        "airlines = feature_engineering_preprocessing(airlines)"
      ]
    },
    {
      "cell_type": "code",
      "execution_count": 39,
      "metadata": {},
      "outputs": [
        {
          "data": {
            "image/png": "[encoded data removed]",
            "text/plain": [
              "<Figure size 700x500 with 1 Axes>"
            ]
          },
          "metadata": {},
          "output_type": "display_data"
        }
      ],
      "source": [
        "plt.figure(figsize=(7,5))\n",
        "utils.plot_norm_countplot(airlines, category_col='Weekend', hue_col='Class', xticks_rotation=0, edgecolor='black',color='black',\n",
        "                          title='Proporção de atrasos por dia da semana')\n",
        "\n",
        "plt.xlabel('Fim de semana')\n",
        "plt.ylabel('Proporção de atrasos')\n",
        "plt.legend(loc='upper right', title='Atraso')\n",
        "plt.savefig('figures/eda/weekend_delay.png', dpi=300, bbox_inches='tight')\n",
        "plt.show()"
      ]
    },
    {
      "cell_type": "code",
      "execution_count": 40,
      "metadata": {},
      "outputs": [
        {
          "data": {
            "image/png": "[encoded data removed]",
            "text/plain": [
              "<Figure size 700x500 with 1 Axes>"
            ]
          },
          "metadata": {},
          "output_type": "display_data"
        }
      ],
      "source": [
        "plt.figure(figsize=(7,5))\n",
        "utils.plot_norm_countplot(airlines, category_col='TimeOfDay', hue_col='Class', \n",
        "                          xticks_rotation=0, edgecolor='black', title='Proporção de atrasos por dia da semana', color='black')\n",
        "plt.xlabel('Período do dia')\n",
        "plt.ylabel('Proporção de atrasos')\n",
        "plt.legend(title='Atraso', loc='upper right')\n",
        "plt.xticks(['Noite', 'Manhã', 'Tarde', 'Noite'])\n",
        "plt.savefig('figures/eda/delay_by_timeofday.png', dpi=300, bbox_inches='tight')\n",
        "plt.show()"
      ]
    },
    {
      "cell_type": "markdown",
      "metadata": {
        "id": "JJDYbCYkGXWZ"
      },
      "source": [
        "## Modelagem"
      ]
    },
    {
      "cell_type": "code",
      "execution_count": 25,
      "metadata": {
        "id": "n2ARPdBCGWKX"
      },
      "outputs": [],
      "source": [
        "from sklearn.tree import DecisionTreeClassifier\n",
        "from sklearn.ensemble import RandomForestClassifier\n",
        "from sklearn.linear_model import LogisticRegression\n",
        "from sklearn.neighbors import KNeighborsClassifier\n",
        "\n",
        "from sklearn.pipeline import Pipeline\n",
        "from sklearn.model_selection import GridSearchCV\n",
        "from sklearn.preprocessing import StandardScaler, MinMaxScaler\n",
        "from sklearn.svm import SVC\n",
        "from sklearn.ensemble import RandomForestClassifier\n",
        "from sklearn.linear_model import LogisticRegression\n",
        "\n",
        "def model_selection_workflow(X, y):\n",
        "    # Define the preprocessing steps for each algorithm\n",
        "    preprocessing_steps = {\n",
        "        'svm': [('scaler', StandardScaler()), ('svm', SVC())],\n",
        "        'random_forest': [('min_max_scaler', MinMaxScaler()), ('random_forest', RandomForestClassifier())],\n",
        "        'logistic_regression': [('scaler', StandardScaler()), ('logistic_regression', LogisticRegression())]\n",
        "    }\n",
        "\n",
        "    # Define the hyperparameters to tune for each algorithm\n",
        "    hyperparameters = {\n",
        "        'svm': {\n",
        "            'svm__C': [0.1, 1, 10],\n",
        "            'svm__kernel': ['linear', 'rbf']\n",
        "        },\n",
        "        'random_forest': {\n",
        "            'random_forest__n_estimators': [100, 200, 300],\n",
        "            'random_forest__max_depth': [None, 5, 10]\n",
        "        },\n",
        "        'logistic_regression': {\n",
        "            'logistic_regression__C': [0.1, 1, 10],\n",
        "            'logistic_regression__penalty': ['l1', 'l2']\n",
        "        }\n",
        "    }\n",
        "\n",
        "    # Perform model selection for each algorithm\n",
        "    best_models = {}\n",
        "    for algorithm, steps in preprocessing_steps.items():\n",
        "        pipeline = Pipeline(steps)\n",
        "\n",
        "        # Perform hyperparameter tuning using cross-validation\n",
        "        grid_search = GridSearchCV(pipeline, hyperparameters[algorithm], cv=5)\n",
        "        grid_search.fit(X, y)\n",
        "\n",
        "        # Store the best model for each algorithm\n",
        "        best_models[algorithm] = grid_search.best_estimator_\n",
        "\n",
        "    return best_models\n",
        "\n"
      ]
    },
    {
      "cell_type": "code",
      "execution_count": 26,
      "metadata": {},
      "outputs": [],
      "source": [
        "# Separate the features (X) and target variable (y)\n",
        "X = airlines.drop(\"Class\", axis=1)\n",
        "y = airlines[\"Class\"]\n",
        "\n",
        "# Split the data into training and test sets\n",
        "X_train, X_test, y_train, y_test = train_test_split(X, y, test_size=0.3, random_state=42)\n",
        "\n",
        "# Apply feature engineering and preprocessing after the split\n",
        "X_train = feature_engineering_preprocessing(X_train)"
      ]
    },
    {
      "cell_type": "code",
      "execution_count": 27,
      "metadata": {},
      "outputs": [],
      "source": [
        "# Define the column transformer for ordinal encoding and feature engineering\n",
        "numeric_features = ['Hour', 'Length']\n",
        "categorical_features = ['Airline', 'AirportFrom', 'AirportTo', 'DayOfWeek', 'TimeOfDay', 'Weekend']\n",
        "\n",
        "# preprocessor for decision tree and random forest\n",
        "preprocessor = ColumnTransformer(\n",
        "    transformers=[\n",
        "        ('num', 'passthrough', numeric_features),\n",
        "        ('cat', OrdinalEncoder(handle_unknown='use_encoded_value', unknown_value=-1), categorical_features)\n",
        "    ], remainder='drop')\n",
        "\n",
        "# preprocessor for logreg\n",
        "preprocessor_logreg = ColumnTransformer(\n",
        "    transformers=[\n",
        "        ('num', StandardScaler(), numeric_features),\n",
        "        ('cat', OneHotEncoder(handle_unknown='ignore'), categorical_features)\n",
        "    ], remainder='drop')"
      ]
    },
    {
      "cell_type": "code",
      "execution_count": 29,
      "metadata": {},
      "outputs": [
        {
          "name": "stdout",
          "output_type": "stream",
          "text": [
            "Logistic Regression Train F1-Score: 0.6338255675207225\n",
            "Logistic Regression Test F1-Score: 0.629139030556856\n"
          ]
        }
      ],
      "source": [
        "X_train_transformed = preprocessor_logreg.fit_transform(X_train)\n",
        "\n",
        "log_reg = LogisticRegression(random_state=42, max_iter=1000)\n",
        "log_reg.fit(X_train_transformed, y_train)\n",
        "\n",
        "print(f'Logistic Regression Train F1-Score: {f1_score(y_train, log_reg.predict(X_train_transformed), average=\"macro\")}')\n",
        "print(f'Logistic Regression Test F1-Score: {f1_score(y_test, log_reg.predict(preprocessor_logreg.transform(X_test)), average=\"macro\")}')"
      ]
    },
    {
      "cell_type": "code",
      "execution_count": 35,
      "metadata": {},
      "outputs": [
        {
          "name": "stdout",
          "output_type": "stream",
          "text": [
            "KNN Train F1-Score: 0.7379428372242147\n",
            "KNN Test F1-Score: 0.6034579882804944\n"
          ]
        }
      ],
      "source": [
        "preprocessor_knn = ColumnTransformer(\n",
        "    transformers=[\n",
        "        ('num', StandardScaler(), ['Hour', 'Length']),\n",
        "        ('cat', OneHotEncoder(handle_unknown='ignore'), ['Airline', 'DayOfWeek', 'TimeOfDay', 'Weekend'])\n",
        "    ], remainder='drop')\n",
        "\n",
        "X_train_transformed = preprocessor.fit_transform(X_train)\n",
        "scaler = StandardScaler()\n",
        "X_train_transformed = scaler.fit_transform(X_train_transformed)\n",
        "\n",
        "knn = KNeighborsClassifier(n_neighbors=5, n_jobs=-1)\n",
        "knn.fit(X_train_transformed, y_train)\n",
        "\n",
        "print(f'KNN Train F1-Score: {f1_score(y_train, knn.predict(X_train_transformed), average=\"macro\")}')\n",
        "print(f'KNN Test F1-Score: {f1_score(y_test, knn.predict(scaler.transform(preprocessor.transform(X_test))), average=\"macro\")}')"
      ]
    },
    {
      "cell_type": "code",
      "execution_count": null,
      "metadata": {},
      "outputs": [
        {
          "name": "stdout",
          "output_type": "stream",
          "text": [
            "0.7922119491161166\n",
            "[0.10522468 0.26691202 0.12656761 0.16956617 0.1575298  0.13847341\n",
            " 0.02320718 0.01251911]\n"
          ]
        }
      ],
      "source": [
        "X_train_transformed = preprocessor.fit_transform(X_train)\n",
        "\n",
        "rf_clf = RandomForestClassifier(n_estimators=100, random_state=32, n_jobs=-1)\n",
        "rf_clf.fit(X_train_transformed, y_train)\n",
        "\n",
        "print(f'Random Forest Train F1-Score', f1_score(y_train, rf_clf.predict(X_train_transformed)))\n",
        "print(f'Random Forest Test F1-Score', f1_score(y_test, rf_clf.predict(preprocessor.transform(X_test))))\n",
        "\n",
        "dt_clf = DecisionTreeClassifier(max_depth=10, random_state=32)\n",
        "dt_clf.fit(X_train_transformed, y_train)\n",
        "\n",
        "print(f'Decision Tree Train F1-Score', f1_score(y_train, dt_clf.predict(X_train_transformed)))\n",
        "print(f'Decision Tree Test F1-Score', f1_score(y_test, dt_clf.predict(preprocessor.transform(X_test))))"
      ]
    },
    {
      "cell_type": "code",
      "execution_count": null,
      "metadata": {},
      "outputs": [],
      "source": [
        "results = compare_algorithms(preprocessor_logreg_knn.fit_transform(X_train), y_train, [log_reg, knn])\n",
        "results_tree_based = compare_algorithms(preprocessor.fit_transform(X_train), y_train, [dt_clf, rf_clf])\n",
        "\n",
        "pd.concat([results, results_tree_based], axis=0)"
      ]
    },
    {
      "cell_type": "code",
      "execution_count": null,
      "metadata": {},
      "outputs": [
        {
          "data": {
            "image/png": "[encoded data removed]",
            "text/plain": [
              "<Figure size 1000x600 with 1 Axes>"
            ]
          },
          "metadata": {},
          "output_type": "display_data"
        }
      ],
      "source": [
        "# print feature importances\n",
        "feature_importances = rf_clf.feature_importances_\n",
        "feature_importances_df = pd.DataFrame({'feature': numeric_features + categorical_features, 'importance': feature_importances})\n",
        "\n",
        "# plot feature importances\n",
        "fig = plt.figure(figsize=(10, 6))\n",
        "sns.barplot(data=feature_importances_df.sort_values(by='importance', ascending=False), x='importance', y='feature', color='black')\n",
        "plt.title('Feature Importances')\n",
        "plt.xlabel('Importance')\n",
        "plt.ylabel('Feature')\n",
        "#plt.savefig('figures/eda/feature_importances.png', dpi=300, bbox_inches='tight')\n",
        "plt.show()"
      ]
    },
    {
      "cell_type": "markdown",
      "metadata": {},
      "source": [
        "**Overfitting?**"
      ]
    },
    {
      "cell_type": "code",
      "execution_count": null,
      "metadata": {},
      "outputs": [
        {
          "name": "stdout",
          "output_type": "stream",
          "text": [
            "Input data:\n",
            "        Hour  Length Airline AirportFrom AirportTo DayOfWeek  TimeOfDay  \\\n",
            "471275     7   133.0      FL         MKE       BOS         7    Morning   \n",
            "132519    14   135.0      XE         MKE       EWR         3  Afternoon   \n",
            "359923    16   115.0      WN         HOU       TPA         5  Afternoon   \n",
            "330084    15   117.0      DL         CVG       LGA         5  Afternoon   \n",
            "143429    12   153.0      OO         DEN       PSC         4    Morning   \n",
            "...      ...     ...     ...         ...       ...       ...        ...   \n",
            "110268    13   157.0      YV         SAT       CLT         6  Afternoon   \n",
            "259178     6   185.0      AA         BUR       DFW         5      Night   \n",
            "365838    17   185.0      DL         DTW       FLL         2  Afternoon   \n",
            "131932    19    70.0      WN         MDW       DTW         5    Evening   \n",
            "121958     9   328.0      DL         JFK       SLC         6    Morning   \n",
            "\n",
            "        Weekend  \n",
            "471275        1  \n",
            "132519        0  \n",
            "359923        0  \n",
            "330084        0  \n",
            "143429        0  \n",
            "...         ...  \n",
            "110268        0  \n",
            "259178        0  \n",
            "365838        0  \n",
            "131932        0  \n",
            "121958        0  \n",
            "\n",
            "[377567 rows x 8 columns]\n",
            "| \n",
            "| \n",
            "| \n",
            "V \n",
            "\n",
            "Algorithms:  [DecisionTreeClassifier(max_depth=12), RandomForestClassifier(n_estimators=300, n_jobs=-1), LogisticRegression(max_iter=1000, n_jobs=-1), KNeighborsClassifier(n_jobs=-1)]\n"
          ]
        }
      ],
      "source": [
        "# Define the algorithms to compare\n",
        "algorithms = [DecisionTreeClassifier(max_depth=12), RandomForestClassifier(n_estimators=300, n_jobs=-1), \n",
        "              LogisticRegression(max_iter=1000, n_jobs=-1), KNeighborsClassifier(n_neighbors=5, n_jobs=-1)]\n",
        "\n",
        "# Compare the algorithms\n",
        "results = compare_algorithms(X_train, y_train, algorithms)\n",
        "\n",
        "\n",
        "# Print the dataframe with the evaluation metrics\n",
        "print(results)"
      ]
    },
    {
      "cell_type": "code",
      "execution_count": null,
      "metadata": {},
      "outputs": [
        {
          "name": "stdout",
          "output_type": "stream",
          "text": [
            "Best model: LogisticRegression\n"
          ]
        }
      ],
      "source": [
        "best_model = results.sort_values(by='F1-Score', ascending=False).iloc[0]\n",
        "\n",
        "print(f\"Best model: {best_model['Model']}\")"
      ]
    },
    {
      "cell_type": "code",
      "execution_count": null,
      "metadata": {},
      "outputs": [],
      "source": []
    }
  ],
  "metadata": {
    "colab": {
      "provenance": []
    },
    "kernelspec": {
      "display_name": "Python 3",
      "name": "python3"
    },
    "language_info": {
      "codemirror_mode": {
        "name": "ipython",
        "version": 3
      },
      "file_extension": ".py",
      "mimetype": "text/x-python",
      "name": "python",
      "nbconvert_exporter": "python",
      "pygments_lexer": "ipython3",
      "version": "3.8.13"
    }
  },
  "nbformat": 4,
  "nbformat_minor": 0
}
